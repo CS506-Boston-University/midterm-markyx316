{
 "cells": [
  {
   "cell_type": "code",
   "execution_count": 56,
   "metadata": {},
   "outputs": [
    {
     "data": {
      "image/png": "[encoded data removed]",
      "text/plain": [
       "<Figure size 1000x600 with 1 Axes>"
      ]
     },
     "metadata": {},
     "output_type": "display_data"
    }
   ],
   "source": [
    "from sklearn.preprocessing import LabelEncoder\n",
    "import pandas as pd\n",
    "import matplotlib.pyplot as plt\n",
    "import numpy as np\n",
    "import seaborn as sns\n",
    "from geopy.distance import geodesic\n",
    "from sklearn.cluster import KMeans\n",
    "\n",
    "train_df = pd.read_csv('./data/train.csv')\n",
    "\n",
    "plt.figure(figsize=(10, 6))\n",
    "sns.boxplot(data=train_df, x='is_fraud', y='amt')\n",
    "plt.title('Transaction Amount by Fraud Status')\n",
    "plt.show()\n"
   ]
  },
  {
   "cell_type": "code",
   "execution_count": 53,
   "metadata": {},
   "outputs": [
    {
     "name": "stdout",
     "output_type": "stream",
     "text": [
      "     city  city_fraud_rate\n",
      "700   700              1.0\n",
      "298   298              1.0\n",
      "168   168              1.0\n",
      "648   648              1.0\n",
      "391   391              1.0\n",
      "..    ...              ...\n",
      "148   148              0.0\n",
      "427   427              0.0\n",
      "428   428              0.0\n",
      "146   146              0.0\n",
      "0       0              0.0\n",
      "\n",
      "[849 rows x 2 columns]\n"
     ]
    }
   ],
   "source": [
    "# Calculate the fraud rate by city\n",
    "fraud_rate_by_city = train_df.groupby('city')['is_fraud'].mean().reset_index()\n",
    "fraud_rate_by_city.rename(columns={'is_fraud': 'city_fraud_rate'}, inplace=True)\n",
    "\n",
    "# Display the fraud rates for inspection\n",
    "print(fraud_rate_by_city.sort_values(by='city_fraud_rate', ascending=False))\n"
   ]
  },
  {
   "cell_type": "code",
   "execution_count": 54,
   "metadata": {},
   "outputs": [
    {
     "name": "stdout",
     "output_type": "stream",
     "text": [
      "     city  city_fraud_rate  normalized_city_fraud_rate\n",
      "700   700              1.0                    7.984694\n",
      "298   298              1.0                    7.984694\n",
      "168   168              1.0                    7.984694\n",
      "648   648              1.0                    7.984694\n",
      "391   391              1.0                    7.984694\n",
      "..    ...              ...                         ...\n",
      "148   148              0.0                   -0.164157\n",
      "427   427              0.0                   -0.164157\n",
      "428   428              0.0                   -0.164157\n",
      "146   146              0.0                   -0.164157\n",
      "0       0              0.0                   -0.164157\n",
      "\n",
      "[849 rows x 3 columns]\n"
     ]
    }
   ],
   "source": [
    "from sklearn.preprocessing import MinMaxScaler, StandardScaler\n",
    "\n",
    "# Initialize the MinMaxScaler\n",
    "scaler = MinMaxScaler()\n",
    "standardscaler = StandardScaler()\n",
    "\n",
    "# Scale the city fraud rates to a 0-1 range\n",
    "fraud_rate_by_city['normalized_city_fraud_rate'] = standardscaler.fit_transform(fraud_rate_by_city[['city_fraud_rate']])\n",
    "#fraud_rate_by_city['scaled_city_fraud_rate'] = standardcaler.fit_transform(fraud_rate_by_city[['normalized_city_fraud_rate']])\n",
    "\n",
    "# Check the scaled fraud rates\n",
    "print(fraud_rate_by_city.sort_values(by='normalized_city_fraud_rate', ascending=False))\n"
   ]
  },
  {
   "cell_type": "code",
   "execution_count": 55,
   "metadata": {},
   "outputs": [
    {
     "name": "stdout",
     "output_type": "stream",
     "text": [
      "             city  city_fraud_rate  normalized_city_fraud_rate\n",
      "count  849.000000       849.000000                8.490000e+02\n",
      "mean   424.000000         0.020145                2.510752e-17\n",
      "std    245.229484         0.122789                1.000589e+00\n",
      "min      0.000000         0.000000               -1.641571e-01\n",
      "25%    212.000000         0.000000               -1.641571e-01\n",
      "50%    424.000000         0.000000               -1.641571e-01\n",
      "75%    636.000000         0.002519               -1.436310e-01\n",
      "max    848.000000         1.000000                7.984694e+00\n"
     ]
    }
   ],
   "source": [
    "print(fraud_rate_by_city.describe())"
   ]
  },
  {
   "cell_type": "code",
   "execution_count": 45,
   "metadata": {},
   "outputs": [
    {
     "name": "stdout",
     "output_type": "stream",
     "text": [
      "             city  city_fraud_rate  normalized_city_fraud_rate\n",
      "count  849.000000       849.000000                  849.000000\n",
      "mean   424.000000         0.020145                    0.020145\n",
      "std    245.229484         0.122789                    0.122789\n",
      "min      0.000000         0.000000                    0.000000\n",
      "25%    212.000000         0.000000                    0.000000\n",
      "50%    424.000000         0.000000                    0.000000\n",
      "75%    636.000000         0.002519                    0.002519\n",
      "max    848.000000         1.000000                    1.000000\n",
      "2        2\n",
      "3        3\n",
      "4        4\n",
      "11      11\n",
      "22      22\n",
      "      ... \n",
      "831    831\n",
      "833    833\n",
      "837    837\n",
      "845    845\n",
      "848    848\n",
      "Name: city, Length: 213, dtype: int64\n"
     ]
    }
   ],
   "source": [
    "# Determine the threshold for high fraud risk categories\n",
    "threshold = fraud_rate_by_city['normalized_city_fraud_rate'].quantile(0.75)\n",
    "print(fraud_rate_by_city.describe())\n",
    "# Identify high fraud risk categories\n",
    "high_risk_categories = fraud_rate_by_city[fraud_rate_by_city['normalized_city_fraud_rate'] >= threshold]['city']\n",
    "\n",
    "# Display high-risk categories\n",
    "print(high_risk_categories)\n"
   ]
  },
  {
   "cell_type": "code",
   "execution_count": 35,
   "metadata": {},
   "outputs": [
    {
     "name": "stdout",
     "output_type": "stream",
     "text": [
      "    category  fraud_rate\n",
      "11        11    0.012169\n",
      "8          8    0.010044\n",
      "4          4    0.009204\n",
      "12        12    0.004199\n",
      "2          2    0.002719\n",
      "13        13    0.002488\n",
      "3          3    0.002229\n",
      "9          9    0.002215\n",
      "10        10    0.001711\n",
      "5          5    0.001408\n",
      "0          0    0.001362\n",
      "1          1    0.001283\n",
      "7          7    0.001269\n",
      "6          6    0.001267\n",
      "4      4\n",
      "8      8\n",
      "11    11\n",
      "12    12\n",
      "Name: category, dtype: int64\n"
     ]
    }
   ],
   "source": [
    "import pandas as pd\n",
    "\n",
    "# Assuming train_df is your DataFrame loaded with transaction data\n",
    "# Ensure 'is_fraud' is treated as a categorical variable for accurate calculations\n",
    "#train_df['is_fraud'] = train_df['is_fraud'].astype(int)\n",
    "\n",
    "# Calculate the fraud rate by category\n",
    "fraud_rate_by_category = train_df.groupby('category')['is_fraud'].mean().reset_index()\n",
    "fraud_rate_by_category.rename(columns={'is_fraud': 'fraud_rate'}, inplace=True)\n",
    "\n",
    "# Display the fraud rate for inspection\n",
    "print(fraud_rate_by_category.sort_values(by='fraud_rate', ascending=False))\n",
    "\n",
    "# Determine the threshold for high fraud risk categories\n",
    "threshold = fraud_rate_by_category['fraud_rate'].quantile(0.75)\n",
    "\n",
    "# Identify high fraud risk categories\n",
    "high_risk_categories = fraud_rate_by_category[fraud_rate_by_category['fraud_rate'] >= threshold]['category']\n",
    "\n",
    "# Display high-risk categories\n",
    "print(high_risk_categories)\n",
    "\n"
   ]
  },
  {
   "cell_type": "code",
   "execution_count": 37,
   "metadata": {},
   "outputs": [
    {
     "name": "stdout",
     "output_type": "stream",
     "text": [
      "<class 'pandas.core.frame.DataFrame'>\n",
      "Index: 693 entries, 523 to 0\n",
      "Data columns (total 2 columns):\n",
      " #   Column      Non-Null Count  Dtype  \n",
      "---  ------      --------------  -----  \n",
      " 0   merchant    693 non-null    int64  \n",
      " 1   fraud_rate  693 non-null    float64\n",
      "dtypes: float64(1), int64(1)\n",
      "memory usage: 16.2 KB\n",
      "None\n",
      "(174,)\n"
     ]
    }
   ],
   "source": [
    "# Calculate the fraud rate by merchant\n",
    "fraud_rate_by_merchant = train_df.groupby('merchant')['is_fraud'].mean().reset_index()\n",
    "fraud_rate_by_merchant.rename(columns={'is_fraud': 'fraud_rate'}, inplace=True)\n",
    "\n",
    "# Display the fraud rate for inspection\n",
    "print(fraud_rate_by_merchant.sort_values(by='fraud_rate', ascending=False).info())\n",
    "\n",
    "# Determine the merch_threshold for high fraud risk categories\n",
    "merch_threshold = fraud_rate_by_merchant['fraud_rate'].quantile(0.75)\n",
    "\n",
    "# Identify high fraud risk categories\n",
    "high_risk_merchants = fraud_rate_by_merchant[fraud_rate_by_merchant['fraud_rate'] >= merch_threshold]['merchant']\n",
    "\n",
    "# Display high-risk merchants\n",
    "print(high_risk_merchants.shape)"
   ]
  },
  {
   "cell_type": "code",
   "execution_count": 57,
   "metadata": {},
   "outputs": [],
   "source": [
    "fraud_df = train_df[train_df['is_fraud'] == 1]\n",
    "normal_df = train_df[train_df['is_fraud'] == 0]"
   ]
  },
  {
   "cell_type": "code",
   "execution_count": 18,
   "metadata": {},
   "outputs": [
    {
     "name": "stdout",
     "output_type": "stream",
     "text": [
      "count    1877.000000\n",
      "mean      530.272611\n",
      "std       392.915401\n",
      "min         1.780000\n",
      "25%       216.250000\n",
      "50%       379.570000\n",
      "75%       907.770000\n",
      "max      1320.920000\n",
      "Name: amt, dtype: float64\n",
      "count    484377.000000\n",
      "mean         67.495988\n",
      "std         151.963785\n",
      "min           1.000000\n",
      "25%           9.590000\n",
      "50%          47.120000\n",
      "75%          82.540000\n",
      "max       22768.110000\n",
      "Name: amt, dtype: float64\n"
     ]
    }
   ],
   "source": [
    "print(fraud_df['amt'].describe())\n",
    "print(normal_df['amt'].describe())"
   ]
  },
  {
   "cell_type": "code",
   "execution_count": 19,
   "metadata": {},
   "outputs": [
    {
     "name": "stdout",
     "output_type": "stream",
     "text": [
      "count    1877.000000\n",
      "mean        7.338839\n",
      "std         3.710363\n",
      "min         0.000000\n",
      "25%         4.000000\n",
      "50%         8.000000\n",
      "75%        11.000000\n",
      "max        13.000000\n",
      "Name: category, dtype: float64\n",
      "count    484377.000000\n",
      "mean          6.232973\n",
      "std           3.914424\n",
      "min           0.000000\n",
      "25%           3.000000\n",
      "50%           6.000000\n",
      "75%          10.000000\n",
      "max          13.000000\n",
      "Name: category, dtype: float64\n"
     ]
    }
   ],
   "source": [
    "print(fraud_df['category'].describe())\n",
    "print(normal_df['category'].describe())"
   ]
  },
  {
   "cell_type": "code",
   "execution_count": 20,
   "metadata": {},
   "outputs": [
    {
     "data": {
      "image/png": "[encoded data removed]",
      "text/plain": [
       "<Figure size 1000x600 with 1 Axes>"
      ]
     },
     "metadata": {},
     "output_type": "display_data"
    }
   ],
   "source": [
    "plt.figure(figsize=(10, 6))\n",
    "sns.countplot(data=fraud_df, x='category')\n",
    "plt.title('Count of Fraud Transactions by Category')\n",
    "plt.xticks(rotation=45)\n",
    "plt.show()"
   ]
  },
  {
   "cell_type": "code",
   "execution_count": 21,
   "metadata": {},
   "outputs": [
    {
     "data": {
      "image/png": "[encoded data removed]",
      "text/plain": [
       "<Figure size 1000x600 with 1 Axes>"
      ]
     },
     "metadata": {},
     "output_type": "display_data"
    }
   ],
   "source": [
    "plt.figure(figsize=(10, 6))\n",
    "sns.countplot(data=normal_df, x='category')\n",
    "plt.title('Count of Normal Transactions by Category')\n",
    "plt.xticks(rotation=45)\n",
    "plt.show()"
   ]
  },
  {
   "cell_type": "code",
   "execution_count": 22,
   "metadata": {},
   "outputs": [
    {
     "name": "stdout",
     "output_type": "stream",
     "text": [
      "count    1877.000000\n",
      "mean        0.244006\n",
      "std         0.853391\n",
      "min         0.000000\n",
      "25%         0.000000\n",
      "50%         0.000000\n",
      "75%         0.000000\n",
      "max         4.000000\n",
      "Name: city_pop_cluster, dtype: float64\n",
      "count    484377.000000\n",
      "mean          0.337807\n",
      "std           0.977859\n",
      "min           0.000000\n",
      "25%           0.000000\n",
      "50%           0.000000\n",
      "75%           0.000000\n",
      "max           4.000000\n",
      "Name: city_pop_cluster, dtype: float64\n"
     ]
    }
   ],
   "source": [
    "print(fraud_df['city_pop_cluster'].describe())\n",
    "print(normal_df['city_pop_cluster'].describe())"
   ]
  },
  {
   "cell_type": "code",
   "execution_count": 25,
   "metadata": {},
   "outputs": [
    {
     "data": {
      "image/png": "[encoded data removed]",
      "text/plain": [
       "<Figure size 1000x600 with 1 Axes>"
      ]
     },
     "metadata": {},
     "output_type": "display_data"
    }
   ],
   "source": [
    "plt.figure(figsize=(10, 6))\n",
    "sns.histplot(data=normal_df, x='city_pop')\n",
    "plt.title('Count of Normal Transactions by Category')\n",
    "plt.xticks(rotation=45)\n",
    "plt.show()"
   ]
  },
  {
   "cell_type": "code",
   "execution_count": 58,
   "metadata": {},
   "outputs": [
    {
     "name": "stdout",
     "output_type": "stream",
     "text": [
      "count    1.877000e+03\n",
      "mean     4.004572e+17\n",
      "std      1.298177e+18\n",
      "min      6.048700e+10\n",
      "25%      3.801440e+13\n",
      "50%      2.454080e+15\n",
      "75%      4.412720e+15\n",
      "max      4.989850e+18\n",
      "Name: cc_num, dtype: float64\n",
      "count    4.843770e+05\n",
      "mean     4.175060e+17\n",
      "std      1.309315e+18\n",
      "min      6.041621e+10\n",
      "25%      1.800430e+14\n",
      "50%      3.521420e+15\n",
      "75%      4.635330e+15\n",
      "max      4.992350e+18\n",
      "Name: cc_num, dtype: float64\n"
     ]
    }
   ],
   "source": [
    "print(fraud_df['cc_num'].describe())\n",
    "print(normal_df['cc_num'].describe())"
   ]
  },
  {
   "cell_type": "code",
   "execution_count": 59,
   "metadata": {},
   "outputs": [
    {
     "name": "stdout",
     "output_type": "stream",
     "text": [
      "        amt  fraud_similarity  normal_similarity\n",
      "0     72.18          0.461706           0.970098\n",
      "1     36.66          0.443207           0.831313\n",
      "2      1.74          0.426411           0.697979\n",
      "3    140.99          0.502322           0.674023\n",
      "4   1722.19          0.247922           0.084113\n",
      "5     34.08          0.441921           0.819743\n",
      "6     50.20          0.450081           0.897814\n",
      "7      3.32          0.427143           0.703081\n",
      "8      5.47          0.428144           0.710145\n",
      "9      1.23          0.426175           0.696348\n",
      "10     2.12          0.426587           0.699199\n",
      "11   121.05          0.489835           0.739419\n",
      "12     3.09          0.427036           0.702334\n",
      "13   112.12          0.484442           0.773007\n",
      "14     8.63          0.429623           0.720789\n",
      "15    52.64          0.451343           0.910946\n",
      "16     7.22          0.428962           0.716001\n",
      "17    67.91          0.459401           0.997283\n",
      "18    63.71          0.457156           0.975692\n",
      "19    79.22          0.465557           0.928376\n"
     ]
    }
   ],
   "source": [
    "# Separate the transactions\n",
    "fraud_trans = train_df[train_df['is_fraud'] == 1]['amt']\n",
    "normal_trans = train_df[train_df['is_fraud'] == 0]['amt']\n",
    "\n",
    "# Calculate statistics\n",
    "fraud_mean, fraud_std = fraud_trans.mean(), fraud_trans.std()\n",
    "normal_mean, normal_std = normal_trans.mean(), normal_trans.std()\n",
    "\n",
    "def calculate_similarity_score(amount, fraud_mean, fraud_std, normal_mean, normal_std):\n",
    "    # Calculate Z-scores for fraud and normal\n",
    "    z_score_fraud = abs((amount - fraud_mean) / fraud_std)\n",
    "    z_score_normal = abs((amount - normal_mean) / normal_std)\n",
    "    \n",
    "    # Invert the Z-scores to get similarity scores (lower means more similar)\n",
    "    fraud_similarity = 1 / (1 + z_score_fraud)\n",
    "    normal_similarity = 1 / (1 + z_score_normal)\n",
    "    \n",
    "    return fraud_similarity, normal_similarity\n",
    "\n",
    "# Vectorize the function for efficient DataFrame application\n",
    "import numpy as np\n",
    "\n",
    "v_calculate_similarity_score = np.vectorize(calculate_similarity_score)\n",
    "\n",
    "# Apply the function\n",
    "train_df['fraud_similarity'], train_df['normal_similarity'] = v_calculate_similarity_score(\n",
    "    train_df['amt'],\n",
    "    fraud_mean, fraud_std,\n",
    "    normal_mean, normal_std\n",
    ")\n",
    "\n",
    "# Display the results\n",
    "print(train_df[['amt', 'fraud_similarity', 'normal_similarity']].head(20))"
   ]
  },
  {
   "cell_type": "code",
   "execution_count": 62,
   "metadata": {},
   "outputs": [
    {
     "name": "stdout",
     "output_type": "stream",
     "text": [
      "        Id trans_date_trans_time        cc_num  \\\n",
      "0   205743      01/09/2020 08:22  5.596350e+15   \n",
      "1   465349      12/12/2020 07:42  4.311370e+18   \n",
      "2    17312      27/06/2020 13:03  2.264940e+15   \n",
      "3   234968      14/09/2020 04:12  2.224100e+15   \n",
      "4   194255      28/08/2020 17:40  3.527540e+15   \n",
      "5   250314      20/09/2020 22:26  3.501510e+15   \n",
      "6   491809      17/12/2020 21:08  3.027300e+13   \n",
      "7    81552      19/07/2020 21:28  2.305340e+15   \n",
      "8   340015      30/10/2020 03:53  3.592930e+15   \n",
      "9   170293      19/08/2020 17:42  4.586810e+15   \n",
      "10  473244      13/12/2020 23:18  3.027040e+13   \n",
      "11  335737      27/10/2020 18:20  3.526830e+15   \n",
      "12   32754      02/07/2020 12:11  3.553630e+15   \n",
      "13  499801      19/12/2020 23:38  4.173950e+15   \n",
      "14  196931      29/08/2020 21:13  4.658490e+15   \n",
      "15  504873      20/12/2020 22:31  3.535810e+15   \n",
      "16  309459      16/10/2020 20:24  4.503100e+18   \n",
      "17  239845      15/09/2020 17:07  3.759750e+14   \n",
      "18  201681      31/08/2020 08:22  5.018030e+11   \n",
      "19  302021      13/10/2020 04:33  5.816860e+11   \n",
      "\n",
      "                                merchant        category      amt      first  \\\n",
      "0                        fraud_Berge LLC   gas_transport    72.18     Joseph   \n",
      "1    fraud_Eichmann, Bogan and Rodriguez   gas_transport    36.66    Phillip   \n",
      "2                fraud_Ankunding-Carroll          travel     1.74       Juan   \n",
      "3       fraud_Schumm, Bauch and Ondricka     grocery_pos   140.99      Sheri   \n",
      "4                      fraud_Gerlach Inc    shopping_net  1722.19     Teresa   \n",
      "5                fraud_Gaylord-Powlowski            home    34.08      Frank   \n",
      "6          fraud_Schaefer, Fay and Hilll   entertainment    50.20     Andrew   \n",
      "7          fraud_Roberts, Ryan and Smith   personal_care     3.32    Jeffrey   \n",
      "8                      fraud_Reichel Inc   entertainment     5.47      Dylan   \n",
      "9                 fraud_O'Hara-Wilderman     food_dining     1.23   Michelle   \n",
      "10        fraud_O'Reilly, Mohr and Purdy            home     2.12       Lisa   \n",
      "11                       fraud_Rau-Robel       kids_pets   121.05     Nathan   \n",
      "12    fraud_Quitzon, Green and Bashirian    shopping_pos     3.09     Sharon   \n",
      "13                    fraud_Parker-Kunde   personal_care   112.12    Stephen   \n",
      "14                     fraud_Labadie LLC   personal_care     8.63       Tara   \n",
      "15                     fraud_Ullrich Ltd       kids_pets    52.64    Matthew   \n",
      "16               fraud_Botsford and Sons            home     7.22  Katherine   \n",
      "17                     fraud_Dare-Gibson  health_fitness    67.91    Roberta   \n",
      "18  fraud_Tillman, Dickinson and Labadie   gas_transport    63.71     Robert   \n",
      "19    fraud_Mosciski, Gislason and Mertz     grocery_pos    79.22      Larry   \n",
      "\n",
      "         last gender                          street  ...         dob  \\\n",
      "0       Moody      M                5901 Foster Pine  ...  23/04/1941   \n",
      "1    Delacruz      M       26678 Lisa Locks Apt. 904  ...  21/09/1969   \n",
      "2     Sherman      M    5939 Garcia Forges Suite 297  ...  17/10/1995   \n",
      "3      Thomas      F     019 Kimberly Light Apt. 039  ...  11/09/1963   \n",
      "4       Stein      F      2838 White Fields Apt. 473  ...  05/12/1974   \n",
      "5    Anderson      M  0611 Stafford Valley Suite 504  ...  02/01/1979   \n",
      "6   Patterson      M  06959 Stephen Branch Suite 246  ...  13/06/2000   \n",
      "7        Rice      M             21447 Powell Circle  ...  14/02/1961   \n",
      "8      Garcia      M                 923 Jordan Road  ...  29/06/1935   \n",
      "9     Gregory      F              6983 Carrillo Isle  ...  05/07/1997   \n",
      "10        Lin      F                908 Brooks Brook  ...  28/11/1972   \n",
      "11     Massey      M        5783 Evan Roads Apt. 465  ...  06/07/1955   \n",
      "12    Johnson      F              7202 Jeffrey Mills  ...  01/09/1984   \n",
      "13   Marshall      M              47144 Roberts Keys  ...  05/10/1978   \n",
      "14   Richards      F           4879 Cristina Station  ...  04/11/1945   \n",
      "15      Myers      M            4936 Michelle Points  ...  09/01/1980   \n",
      "16     Tucker      F        670 Le Meadows Suite 250  ...  03/07/1979   \n",
      "17   Mccarthy      F    94431 Matthew Mall Suite 296  ...  06/04/1973   \n",
      "18     Flores      M    3277 Fields Meadows Apt. 790  ...  20/09/1958   \n",
      "19      House      M          911 Sabrina Trafficway  ...  28/07/1973   \n",
      "\n",
      "                           trans_num   unix_time  merch_lat  merch_long  \\\n",
      "0   5223f3d810e0083482e47a5c3a1eba94  1378023768  30.424083  -90.080958   \n",
      "1   25f3a9b8613a9745c5802031bd3a2c62  1386834132  39.871664 -103.457961   \n",
      "2   2a6f3f7c697bc721a80078aefd68d857  1372338223  28.456118  -98.491336   \n",
      "3   fcd03eb50b00fe682d8a47f3bec089a6  1379131971  31.292136  -82.002506   \n",
      "4   d3105e269285b69b334e99433d6a6585  1377711655  33.067620  -80.201090   \n",
      "5   65c4030735fd9914cb8164f38c741bf3  1379716005  26.325439  -81.178760   \n",
      "6   11f6f5dec1fff1620eb9561c58653eb4  1387314510  36.512552  -91.484154   \n",
      "7   1439a98af38b257894e0d1f6463814cf  1374269317  40.125409  -92.680702   \n",
      "8   96dd40db0c5e975121a0c854f566edb6  1383105215  45.663351  -93.477805   \n",
      "9   0fce406c697718418e90bcffdb74d86c  1376934169  31.731266  -80.551805   \n",
      "10  a54c02e266ce153a0e70d619314af3dd  1386976720  41.660440  -90.760898   \n",
      "11  8870380d6c2ddaf635275ad68b02c39b  1382898030  43.527108  -84.443894   \n",
      "12  f6c4d1adf2f5515ac95fe3f22e4d81a7  1372767079  48.537334 -121.536590   \n",
      "13  2399da5422ee65c857f056cd08571356  1387496299  39.441910  -74.353725   \n",
      "14  035d2b25ee3e72fc6ac77b5dc177b438  1377810785  40.649950  -79.626155   \n",
      "15  244a082c1be70d25b9dd818dca54bbb1  1387578680  39.504139  -89.886173   \n",
      "16  14cf3425d999f7ff4b4bf38dd0141e88  1381955053  27.101717  -81.456678   \n",
      "17  d1b5a909046744c0200ed169a4929444  1379264866  42.015435  -72.994345   \n",
      "18  d4510b1d5a4ac24b1807f4345891e802  1377937370  42.306285 -122.010232   \n",
      "19  307d8ea31ee02ee3b6a57d2448916cc8  1381638812  41.457260  -79.469439   \n",
      "\n",
      "    is_fraud fraud_similarity normal_similarity fraud_similarity_scaled  \\\n",
      "0        0.0         0.461706          0.970098                0.031645   \n",
      "1        0.0         0.443207          0.831313               -0.304521   \n",
      "2        0.0         0.426411          0.697979               -0.609744   \n",
      "3        0.0         0.502322          0.674023                0.769732   \n",
      "4        0.0         0.247922          0.084113               -3.853272   \n",
      "5        0.0         0.441921          0.819743               -0.327892   \n",
      "6        0.0         0.450081          0.897814               -0.179603   \n",
      "7        0.0         0.427143          0.703081               -0.596434   \n",
      "8        0.0         0.428144          0.710145               -0.578249   \n",
      "9        0.0         0.426175          0.696348               -0.614030   \n",
      "10       0.0         0.426587          0.699199               -0.606547   \n",
      "11       0.0         0.489835          0.739419                0.542816   \n",
      "12       0.0         0.427036          0.702334               -0.598374   \n",
      "13       0.0         0.484442          0.773007                0.444810   \n",
      "14       0.0         0.429623          0.720789               -0.551366   \n",
      "15       0.0         0.451343          0.910946               -0.156678   \n",
      "16       0.0         0.428962          0.716001               -0.563384   \n",
      "17       0.0         0.459401          0.997283               -0.010243   \n",
      "18       0.0         0.457156          0.975692               -0.051039   \n",
      "19       0.0         0.465557          0.928376                0.101632   \n",
      "\n",
      "    normal_similarity_scaled  \n",
      "0                   1.325116  \n",
      "1                   0.333388  \n",
      "2                  -0.619383  \n",
      "3                  -0.790564  \n",
      "4                  -5.005912  \n",
      "5                   0.250714  \n",
      "6                   0.808589  \n",
      "7                  -0.582923  \n",
      "8                  -0.532446  \n",
      "9                  -0.631039  \n",
      "10                 -0.610663  \n",
      "11                 -0.323261  \n",
      "12                 -0.588264  \n",
      "13                 -0.083249  \n",
      "14                 -0.456387  \n",
      "15                  0.902426  \n",
      "16                 -0.490604  \n",
      "17                  1.519370  \n",
      "18                  1.365085  \n",
      "19                  1.026976  \n",
      "\n",
      "[20 rows x 27 columns]\n"
     ]
    }
   ],
   "source": [
    "from sklearn.preprocessing import MinMaxScaler\n",
    "\n",
    "scaler = StandardScaler()\n",
    "\n",
    "# Combine the scores into a single DataFrame for scaling\n",
    "scores_df = train_df[['fraud_similarity', 'normal_similarity']]\n",
    "\n",
    "# Fit and transform the scores\n",
    "scaled_scores = scaler.fit_transform(scores_df)\n",
    "\n",
    "# Update the original DataFrame\n",
    "train_df[['fraud_similarity_scaled', 'normal_similarity_scaled']] = scaled_scores\n",
    "\n",
    "print(train_df.head(20))\n"
   ]
  }
 ],
 "metadata": {
  "kernelspec": {
   "display_name": "Python 3",
   "language": "python",
   "name": "python3"
  },
  "language_info": {
   "codemirror_mode": {
    "name": "ipython",
    "version": 3
   },
   "file_extension": ".py",
   "mimetype": "text/x-python",
   "name": "python",
   "nbconvert_exporter": "python",
   "pygments_lexer": "ipython3",
   "version": "3.12.2"
  }
 },
 "nbformat": 4,
 "nbformat_minor": 2
}
